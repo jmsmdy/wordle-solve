{
 "cells": [
  {
   "cell_type": "code",
   "execution_count": 1,
   "metadata": {},
   "outputs": [],
   "source": [
    "from wordle_solve import load_dictionary, ConstraintSolver, WordleSimulator, WordleWord\n",
    "\n",
    "dictionary = load_dictionary()\n",
    "solver = ConstraintSolver(dictionary)\n",
    "\n",
    "def summarize(simulator, solver):\n",
    "    print('Guesses so Far:', simulator.guesses)\n",
    "    print('Constraints Learned:', simulator.constraints())\n",
    "    print('Dictionary Words Matching Constraints:', len(solver.find_all_solutions(simulator.constraints())))\n",
    "    print('Last Guess Was:', 'Correct!' if simulator.solved else 'Incorrect :(')"
   ]
  },
  {
   "attachments": {},
   "cell_type": "markdown",
   "metadata": {},
   "source": [
    "# Manually Guessing"
   ]
  },
  {
   "cell_type": "code",
   "execution_count": 2,
   "metadata": {},
   "outputs": [
    {
     "name": "stdout",
     "output_type": "stream",
     "text": [
      "Guesses so Far: []\n",
      "Constraints Learned: [WordOmitsConstraint(''), WordContainsConstraint('')]\n",
      "Dictionary Words Matching Constraints: 12972\n",
      "Last Guess Was: Incorrect :(\n"
     ]
    }
   ],
   "source": [
    "ws = WordleSimulator(WordleWord('trial'))\n",
    "summarize(ws, solver)"
   ]
  },
  {
   "cell_type": "code",
   "execution_count": 3,
   "metadata": {},
   "outputs": [
    {
     "name": "stdout",
     "output_type": "stream",
     "text": [
      "Guesses so Far: [WordleWord('hello')]\n",
      "Constraints Learned: [WordOmitsConstraint('eho'), WordContainsConstraint('l'), NotLetterPositionConstraint('l', 2), NotLetterPositionConstraint('l', 3)]\n",
      "Dictionary Words Matching Constraints: 562\n",
      "Last Guess Was: Incorrect :(\n"
     ]
    }
   ],
   "source": [
    "ws.guess(WordleWord('hello'))\n",
    "summarize(ws, solver)"
   ]
  },
  {
   "cell_type": "code",
   "execution_count": 4,
   "metadata": {},
   "outputs": [
    {
     "name": "stdout",
     "output_type": "stream",
     "text": [
      "Guesses so Far: [WordleWord('hello'), WordleWord('loopy')]\n",
      "Constraints Learned: [WordOmitsConstraint('ehopy'), WordContainsConstraint('l'), NotLetterPositionConstraint('l', 2), NotLetterPositionConstraint('l', 3), NotLetterPositionConstraint('l', 0)]\n",
      "Dictionary Words Matching Constraints: 292\n",
      "Last Guess Was: Incorrect :(\n"
     ]
    }
   ],
   "source": [
    "ws.guess(WordleWord('loopy'))\n",
    "summarize(ws, solver)"
   ]
  },
  {
   "cell_type": "code",
   "execution_count": 5,
   "metadata": {},
   "outputs": [
    {
     "name": "stdout",
     "output_type": "stream",
     "text": [
      "Guesses so Far: [WordleWord('hello'), WordleWord('loopy'), WordleWord('cliff')]\n",
      "Constraints Learned: [WordOmitsConstraint('cefhopy'), WordContainsConstraint('il'), NotLetterPositionConstraint('l', 2), NotLetterPositionConstraint('l', 3), NotLetterPositionConstraint('l', 0), LetterPositionConstraint('i', 2), NotLetterPositionConstraint('l', 1)]\n",
      "Dictionary Words Matching Constraints: 6\n",
      "Last Guess Was: Incorrect :(\n"
     ]
    }
   ],
   "source": [
    "ws.guess(WordleWord('cliff'))\n",
    "summarize(ws, solver)"
   ]
  },
  {
   "cell_type": "code",
   "execution_count": 6,
   "metadata": {},
   "outputs": [
    {
     "name": "stdout",
     "output_type": "stream",
     "text": [
      "Guesses so Far: [WordleWord('hello'), WordleWord('loopy'), WordleWord('cliff'), WordleWord('trail')]\n",
      "Constraints Learned: [WordOmitsConstraint('cefhopy'), WordContainsConstraint('ailrt'), NotLetterPositionConstraint('l', 2), NotLetterPositionConstraint('l', 3), NotLetterPositionConstraint('l', 0), LetterPositionConstraint('i', 2), NotLetterPositionConstraint('l', 1), LetterPositionConstraint('t', 0), LetterPositionConstraint('r', 1), LetterPositionConstraint('l', 4), NotLetterPositionConstraint('a', 2), NotLetterPositionConstraint('i', 3)]\n",
      "Dictionary Words Matching Constraints: 1\n",
      "Last Guess Was: Incorrect :(\n"
     ]
    }
   ],
   "source": [
    "ws.guess(WordleWord('trail'))\n",
    "summarize(ws, solver)"
   ]
  },
  {
   "cell_type": "code",
   "execution_count": 7,
   "metadata": {},
   "outputs": [
    {
     "name": "stdout",
     "output_type": "stream",
     "text": [
      "Guesses so Far: [WordleWord('hello'), WordleWord('loopy'), WordleWord('cliff'), WordleWord('trail'), WordleWord('trial')]\n",
      "Constraints Learned: [WordOmitsConstraint('cefhopy'), WordContainsConstraint('ailrt'), NotLetterPositionConstraint('l', 2), NotLetterPositionConstraint('l', 3), NotLetterPositionConstraint('l', 0), LetterPositionConstraint('i', 2), NotLetterPositionConstraint('l', 1), LetterPositionConstraint('t', 0), LetterPositionConstraint('r', 1), LetterPositionConstraint('l', 4), NotLetterPositionConstraint('a', 2), NotLetterPositionConstraint('i', 3), LetterPositionConstraint('a', 3)]\n",
      "Dictionary Words Matching Constraints: 1\n",
      "Last Guess Was: Correct!\n"
     ]
    }
   ],
   "source": [
    "ws.guess(WordleWord('trial'))\n",
    "summarize(ws, solver)"
   ]
  },
  {
   "attachments": {},
   "cell_type": "markdown",
   "metadata": {},
   "source": [
    "# Using Automatic Solver"
   ]
  },
  {
   "cell_type": "code",
   "execution_count": 8,
   "metadata": {},
   "outputs": [
    {
     "name": "stdout",
     "output_type": "stream",
     "text": [
      "Guesses so Far: []\n",
      "Constraints Learned: [WordOmitsConstraint(''), WordContainsConstraint('')]\n",
      "Dictionary Words Matching Constraints: 12972\n",
      "Last Guess Was: Incorrect :(\n"
     ]
    }
   ],
   "source": [
    "ws = WordleSimulator(WordleWord('trial'))\n",
    "summarize(ws, solver)"
   ]
  },
  {
   "cell_type": "code",
   "execution_count": 9,
   "metadata": {},
   "outputs": [
    {
     "name": "stdout",
     "output_type": "stream",
     "text": [
      "Next guess: WordleWord('maker')\n",
      "Guesses so Far: [WordleWord('maker')]\n",
      "Constraints Learned: [WordOmitsConstraint('ekm'), WordContainsConstraint('ar'), NotLetterPositionConstraint('a', 1), NotLetterPositionConstraint('r', 4)]\n",
      "Dictionary Words Matching Constraints: 458\n",
      "Last Guess Was: Incorrect :(\n"
     ]
    }
   ],
   "source": [
    "next_guess = solver.strategically_guess(ws)\n",
    "correct = ws.guess(next_guess)\n",
    "summarize(ws, solver)\n"
   ]
  },
  {
   "cell_type": "code",
   "execution_count": 10,
   "metadata": {},
   "outputs": [
    {
     "name": "stdout",
     "output_type": "stream",
     "text": [
      "Next guess: WordleWord('tiars')\n",
      "Guesses so Far: [WordleWord('maker'), WordleWord('tiars')]\n",
      "Constraints Learned: [WordOmitsConstraint('ekms'), WordContainsConstraint('airt'), NotLetterPositionConstraint('a', 1), NotLetterPositionConstraint('r', 4), LetterPositionConstraint('t', 0), NotLetterPositionConstraint('i', 1), NotLetterPositionConstraint('a', 2), NotLetterPositionConstraint('r', 3)]\n",
      "Dictionary Words Matching Constraints: 3\n",
      "Last Guess Was: Incorrect :(\n"
     ]
    }
   ],
   "source": [
    "next_guess = solver.strategically_guess(ws)\n",
    "correct = ws.guess(next_guess)\n",
    "summarize(ws, solver)"
   ]
  },
  {
   "cell_type": "code",
   "execution_count": 11,
   "metadata": {},
   "outputs": [
    {
     "name": "stdout",
     "output_type": "stream",
     "text": [
      "Next guess: WordleWord('triac')\n",
      "Guesses so Far: [WordleWord('maker'), WordleWord('tiars'), WordleWord('triac')]\n",
      "Constraints Learned: [WordOmitsConstraint('cekms'), WordContainsConstraint('airt'), NotLetterPositionConstraint('a', 1), NotLetterPositionConstraint('r', 4), LetterPositionConstraint('t', 0), NotLetterPositionConstraint('i', 1), NotLetterPositionConstraint('a', 2), NotLetterPositionConstraint('r', 3), LetterPositionConstraint('r', 1), LetterPositionConstraint('i', 2), LetterPositionConstraint('a', 3)]\n",
      "Dictionary Words Matching Constraints: 2\n",
      "Last Guess Was: Incorrect :(\n"
     ]
    }
   ],
   "source": [
    "next_guess = solver.strategically_guess(ws)\n",
    "correct = ws.guess(next_guess)\n",
    "summarize(ws, solver)"
   ]
  },
  {
   "cell_type": "code",
   "execution_count": 12,
   "metadata": {},
   "outputs": [
    {
     "name": "stdout",
     "output_type": "stream",
     "text": [
      "Next guess: WordleWord('triad')\n",
      "Guesses so Far: [WordleWord('maker'), WordleWord('tiars'), WordleWord('triac'), WordleWord('triad')]\n",
      "Constraints Learned: [WordOmitsConstraint('cdekms'), WordContainsConstraint('airt'), NotLetterPositionConstraint('a', 1), NotLetterPositionConstraint('r', 4), LetterPositionConstraint('t', 0), NotLetterPositionConstraint('i', 1), NotLetterPositionConstraint('a', 2), NotLetterPositionConstraint('r', 3), LetterPositionConstraint('r', 1), LetterPositionConstraint('i', 2), LetterPositionConstraint('a', 3)]\n",
      "Dictionary Words Matching Constraints: 1\n",
      "Last Guess Was: Incorrect :(\n"
     ]
    }
   ],
   "source": [
    "next_guess = solver.strategically_guess(ws)\n",
    "correct = ws.guess(next_guess)\n",
    "summarize(ws, solver)"
   ]
  },
  {
   "cell_type": "code",
   "execution_count": 13,
   "metadata": {},
   "outputs": [
    {
     "name": "stdout",
     "output_type": "stream",
     "text": [
      "Next guess: WordleWord('trial')\n",
      "Guesses so Far: [WordleWord('maker'), WordleWord('tiars'), WordleWord('triac'), WordleWord('triad'), WordleWord('trial')]\n",
      "Constraints Learned: [WordOmitsConstraint('cdekms'), WordContainsConstraint('ailrt'), NotLetterPositionConstraint('a', 1), NotLetterPositionConstraint('r', 4), LetterPositionConstraint('t', 0), NotLetterPositionConstraint('i', 1), NotLetterPositionConstraint('a', 2), NotLetterPositionConstraint('r', 3), LetterPositionConstraint('r', 1), LetterPositionConstraint('i', 2), LetterPositionConstraint('a', 3), LetterPositionConstraint('l', 4)]\n",
      "Dictionary Words Matching Constraints: 1\n",
      "Last Guess Was: Correct!\n"
     ]
    }
   ],
   "source": [
    "next_guess = solver.strategically_guess(ws)\n",
    "correct = ws.guess(next_guess)\n",
    "summarize(ws, solver)"
   ]
  }
 ],
 "metadata": {
  "kernelspec": {
   "display_name": "base",
   "language": "python",
   "name": "python3"
  },
  "language_info": {
   "codemirror_mode": {
    "name": "ipython",
    "version": 3
   },
   "file_extension": ".py",
   "mimetype": "text/x-python",
   "name": "python",
   "nbconvert_exporter": "python",
   "pygments_lexer": "ipython3",
   "version": "3.10.9"
  },
  "orig_nbformat": 4
 },
 "nbformat": 4,
 "nbformat_minor": 2
}
